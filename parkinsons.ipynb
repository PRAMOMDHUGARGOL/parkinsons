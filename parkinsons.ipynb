{
 "metadata": {
  "language_info": {
   "codemirror_mode": {
    "name": "ipython",
    "version": 3
   },
   "file_extension": ".py",
   "mimetype": "text/x-python",
   "name": "python",
   "nbconvert_exporter": "python",
   "pygments_lexer": "ipython3",
   "version": "3.8.5-final"
  },
  "orig_nbformat": 2,
  "kernelspec": {
   "name": "python_defaultSpec_1597323839428",
   "display_name": "Python 3.8.5 64-bit"
  }
 },
 "nbformat": 4,
 "nbformat_minor": 2,
 "cells": [
  {
   "cell_type": "code",
   "execution_count": 2,
   "metadata": {
    "tags": []
   },
   "outputs": [
    {
     "output_type": "stream",
     "name": "stdout",
     "text": "94.87179487179486\n"
    }
   ],
   "source": [
    "#import libraries\n",
    "import numpy as np\n",
    "import pandas as pd\n",
    "import os, sys\n",
    "from sklearn.preprocessing import MinMaxScaler\n",
    "from xgboost.sklearn import XGBClassifier\n",
    "from sklearn.model_selection import train_test_split\n",
    "from sklearn.metrics import accuracy_score\n",
    " \n",
    "#import the dataset parkinsons.data\n",
    "#Start Code\n",
    "df =pd.read_csv('parkinsons.csv')\n",
    "df.head()\n",
    "#End code\n",
    " \n",
    "#Get the features and labels\n",
    "features=df.loc[:,df.columns!='status'].values[:,1:]\n",
    "labels=df.loc[:,'status'].values\n",
    " \n",
    "#Scale the features to between -1 and 1\n",
    "#Start Code\n",
    "scaler= MinMaxScaler((-1,1))\n",
    "x=scaler.fit_transform(features)\n",
    "#End Code\n",
    "y=labels\n",
    "#Split the dataset keep “random_state=7”\n",
    "#Start Code\n",
    "x_train,x_test,y_train,y_test=train_test_split(x, y, test_size=0.2, random_state=7)\n",
    "#End Code\n",
    " \n",
    "#Train the model\n",
    "#Start Code\n",
    "model= XGBClassifier()\n",
    "model.fit(x_train,y_train)\n",
    "#End Code\n",
    " \n",
    "#Fit and Predict the model\n",
    "#Start Code\n",
    "#In this line write a code to fit the model with x_train and y_train\n",
    "y_pred = model.predict(x_test)\n",
    "print(accuracy_score(y_test, y_pred)*100)\n",
    "#End Code\n",
    " \n",
    "#Calculate the accuracy \n",
    "#code completed\n",
    "\n"
   ]
  },
  {
   "cell_type": "code",
   "execution_count": null,
   "metadata": {},
   "outputs": [],
   "source": []
  }
 ]
}